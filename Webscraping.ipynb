# import libraries
import requests
import urllib.request
import time
from bs4 import BeautifulSoup
for i in range(36,len(soup.findAll('tr'))+1): #'tbody' tags are for links
    one_a_tag = soup.findAll('tr')[i]
    link = one_a_tag['tr']
    download_url = 'https://en.wikipedia.org/wiki/'+ link
    urllib.request.urlretrieve(download_url,'./'+link[link.find('/turnstile_')+1:]) 
    time.sleep(1)
    soup